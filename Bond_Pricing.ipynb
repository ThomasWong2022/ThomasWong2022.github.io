{
  "nbformat": 4,
  "nbformat_minor": 0,
  "metadata": {
    "colab": {
      "provenance": [],
      "authorship_tag": "ABX9TyMrKeE2yvrvaYfCyK7YycDo",
      "include_colab_link": true
    },
    "kernelspec": {
      "name": "python3",
      "display_name": "Python 3"
    },
    "language_info": {
      "name": "python"
    }
  },
  "cells": [
    {
      "cell_type": "markdown",
      "metadata": {
        "id": "view-in-github",
        "colab_type": "text"
      },
      "source": [
        "<a href=\"https://colab.research.google.com/github/ThomasWong2022/ThomasWong2022.github.io/blob/main/Bond_Pricing.ipynb\" target=\"_parent\"><img src=\"https://colab.research.google.com/assets/colab-badge.svg\" alt=\"Open In Colab\"/></a>"
      ]
    },
    {
      "cell_type": "code",
      "execution_count": null,
      "metadata": {
        "id": "oik6wxTy0una"
      },
      "outputs": [],
      "source": [
        "import pandas as pd\n",
        "import numpy as np"
      ]
    },
    {
      "cell_type": "code",
      "source": [
        "\"\"\"\n",
        "\n",
        "\n",
        "Bond Yield\n",
        "\n",
        "\n",
        "\"\"\"\n",
        "\n",
        "import scipy\n",
        "import datetime\n",
        "\n",
        "\n",
        "def years_to_maturity(maturity_date, ref_date=None):\n",
        "    end = datetime.datetime.strptime(maturity_date, \"%Y-%m-%d\")\n",
        "    if not ref_date:\n",
        "        start = datetime.datetime.now()\n",
        "    else:\n",
        "        start = datetime.datetime.strptime(ref_date, \"%Y-%m-%d\")\n",
        "    return (end - start).days / 366\n",
        "\n",
        "\n",
        "def bond_yield(current, coupon_rate=0.125, freq=2, ref_date=None, maturity_date=\"2026-01-30\", par=100):\n",
        "\n",
        "    maturity = years_to_maturity(maturity_date,ref_date)\n",
        "\n",
        "    def bond_formula(d, current, par, coupon_rate=0.125, freq=2, maturity=2.75):\n",
        "        coupon = coupon_rate / freq\n",
        "        cashflow_count = int(np.floor(maturity / (1 / freq)))\n",
        "        second_cashflow_day = maturity - cashflow_count / freq + 1 / freq\n",
        "        bond_price = par * np.power(d, maturity) + coupon * (\n",
        "            np.power(d, maturity + 1 / freq) - np.power(d, second_cashflow_day)\n",
        "        ) / (np.power(d, 1 / freq) - 1)\n",
        "        accured_int = coupon_rate * (1/freq - second_cashflow_day)\n",
        "        return bond_price - current\n",
        "\n",
        "    coupon_rate_guess = (\n",
        "        coupon_rate + np.exp(np.log(par / current) / maturity) - 1\n",
        "    ) / 100\n",
        "    x0 = 1 / (1 + coupon_rate_guess)\n",
        "    ans = scipy.optimize.fsolve(\n",
        "        bond_formula, x0=x0, args=(current, par, coupon_rate, freq, maturity)\n",
        "    )\n",
        "    return 1 / ans - 1"
      ],
      "metadata": {
        "id": "yTx1eQTi0y95"
      },
      "execution_count": null,
      "outputs": []
    },
    {
      "cell_type": "code",
      "source": [
        "bond_yield(30.17,coupon_rate=0.5,freq=2,maturity_date='2061-01-31',par=100) * 100"
      ],
      "metadata": {
        "colab": {
          "base_uri": "https://localhost:8080/"
        },
        "id": "-MLrzilVCbJg",
        "outputId": "f7e35004-8343-4d35-de15-c65b6c6e4aa3"
      },
      "execution_count": null,
      "outputs": [
        {
          "output_type": "execute_result",
          "data": {
            "text/plain": [
              "array([4.30427542])"
            ]
          },
          "metadata": {},
          "execution_count": 3
        }
      ]
    },
    {
      "cell_type": "code",
      "source": [],
      "metadata": {
        "id": "L6mD61s0DeFb"
      },
      "execution_count": null,
      "outputs": []
    },
    {
      "cell_type": "code",
      "source": [
        "bond_yield(39.665,coupon_rate=0.625,freq=2,maturity_date='2050-11-20',par=100) * 100"
      ],
      "metadata": {
        "id": "N72DkcmT1JEJ",
        "outputId": "1fae1da3-fbe0-4bfc-b5e3-a23de717a50b",
        "colab": {
          "base_uri": "https://localhost:8080/"
        }
      },
      "execution_count": null,
      "outputs": [
        {
          "output_type": "execute_result",
          "data": {
            "text/plain": [
              "array([4.59296366])"
            ]
          },
          "metadata": {},
          "execution_count": 3
        }
      ]
    },
    {
      "cell_type": "code",
      "source": [
        "bond_yield(30.17,coupon_rate=0.4,freq=2,maturity_date='2061-01-31',par=100) * 100"
      ],
      "metadata": {
        "id": "yMFXdvGI1I7i",
        "colab": {
          "base_uri": "https://localhost:8080/"
        },
        "outputId": "5fa800cd-cd3a-4770-c3eb-7f2fc0a2d928"
      },
      "execution_count": null,
      "outputs": [
        {
          "output_type": "execute_result",
          "data": {
            "text/plain": [
              "array([4.09790288])"
            ]
          },
          "metadata": {},
          "execution_count": 6
        }
      ]
    },
    {
      "cell_type": "code",
      "source": [
        "X = bond_yield(75.175,coupon_rate=0.125,freq=2,maturity_date='2051-03-23',par=100) * 100\n",
        "X"
      ],
      "metadata": {
        "id": "Yrm-yyz3Dxq2",
        "colab": {
          "base_uri": "https://localhost:8080/"
        },
        "outputId": "069d13c3-e86a-4ac9-f80c-164afce5d6b5"
      },
      "execution_count": null,
      "outputs": [
        {
          "output_type": "execute_result",
          "data": {
            "text/plain": [
              "array([1.20956811])"
            ]
          },
          "metadata": {},
          "execution_count": 5
        }
      ]
    },
    {
      "cell_type": "code",
      "source": [],
      "metadata": {
        "id": "EjbpaRa11a8H"
      },
      "execution_count": null,
      "outputs": []
    },
    {
      "cell_type": "code",
      "source": [],
      "metadata": {
        "id": "6SGCNyZ_1a_l"
      },
      "execution_count": null,
      "outputs": []
    },
    {
      "cell_type": "code",
      "source": [],
      "metadata": {
        "id": "3InENw4k1bCt"
      },
      "execution_count": null,
      "outputs": []
    },
    {
      "cell_type": "code",
      "source": [
        "! pip install numerapi"
      ],
      "metadata": {
        "colab": {
          "base_uri": "https://localhost:8080/"
        },
        "id": "Emq_DgkC1bF-",
        "outputId": "c418fd8f-9d44-40ca-8254-7109f5206af6"
      },
      "execution_count": null,
      "outputs": [
        {
          "output_type": "stream",
          "name": "stdout",
          "text": [
            "Collecting numerapi\n",
            "  Downloading numerapi-2.18.0-py3-none-any.whl (27 kB)\n",
            "Requirement already satisfied: requests in /usr/local/lib/python3.10/dist-packages (from numerapi) (2.31.0)\n",
            "Requirement already satisfied: pytz in /usr/local/lib/python3.10/dist-packages (from numerapi) (2023.4)\n",
            "Requirement already satisfied: python-dateutil in /usr/local/lib/python3.10/dist-packages (from numerapi) (2.8.2)\n",
            "Requirement already satisfied: tqdm>=4.29.1 in /usr/local/lib/python3.10/dist-packages (from numerapi) (4.66.2)\n",
            "Requirement already satisfied: click>=7.0 in /usr/local/lib/python3.10/dist-packages (from numerapi) (8.1.7)\n",
            "Requirement already satisfied: pandas>=1.1.0 in /usr/local/lib/python3.10/dist-packages (from numerapi) (2.0.3)\n",
            "Requirement already satisfied: tzdata>=2022.1 in /usr/local/lib/python3.10/dist-packages (from pandas>=1.1.0->numerapi) (2024.1)\n",
            "Requirement already satisfied: numpy>=1.21.0 in /usr/local/lib/python3.10/dist-packages (from pandas>=1.1.0->numerapi) (1.25.2)\n",
            "Requirement already satisfied: six>=1.5 in /usr/local/lib/python3.10/dist-packages (from python-dateutil->numerapi) (1.16.0)\n",
            "Requirement already satisfied: charset-normalizer<4,>=2 in /usr/local/lib/python3.10/dist-packages (from requests->numerapi) (3.3.2)\n",
            "Requirement already satisfied: idna<4,>=2.5 in /usr/local/lib/python3.10/dist-packages (from requests->numerapi) (3.6)\n",
            "Requirement already satisfied: urllib3<3,>=1.21.1 in /usr/local/lib/python3.10/dist-packages (from requests->numerapi) (2.0.7)\n",
            "Requirement already satisfied: certifi>=2017.4.17 in /usr/local/lib/python3.10/dist-packages (from requests->numerapi) (2024.2.2)\n",
            "Installing collected packages: numerapi\n",
            "Successfully installed numerapi-2.18.0\n"
          ]
        }
      ]
    },
    {
      "cell_type": "code",
      "source": [
        "import pandas as pd\n",
        "import numpy as np"
      ],
      "metadata": {
        "id": "BEllPgZW17Ys"
      },
      "execution_count": null,
      "outputs": []
    },
    {
      "cell_type": "code",
      "source": [
        "from numerapi import NumerAPI\n",
        "napi = NumerAPI()"
      ],
      "metadata": {
        "id": "aR8a2EJr1dRt"
      },
      "execution_count": null,
      "outputs": []
    },
    {
      "cell_type": "code",
      "source": [
        "napi.download_dataset(\n",
        "\t\"v4/validation.parquet\",\n",
        "\t\"validation.parquet\"\n",
        ")"
      ],
      "metadata": {
        "colab": {
          "base_uri": "https://localhost:8080/",
          "height": 53
        },
        "id": "LcDBfOdz1i4x",
        "outputId": "d1f2ea28-b711-481b-b0aa-169d1ca933f3"
      },
      "execution_count": null,
      "outputs": [
        {
          "output_type": "stream",
          "name": "stderr",
          "text": [
            "validation.parquet: 1.31GB [00:46, 28.2MB/s]                            \n"
          ]
        },
        {
          "output_type": "execute_result",
          "data": {
            "text/plain": [
              "'validation.parquet'"
            ],
            "application/vnd.google.colaboratory.intrinsic+json": {
              "type": "string"
            }
          },
          "metadata": {},
          "execution_count": 3
        }
      ]
    },
    {
      "cell_type": "code",
      "source": [
        "napi.download_dataset(\n",
        "\t\"v4/validation_example_preds.parquet\",\n",
        "\t\"validation_example_preds.parquet\"\n",
        ")"
      ],
      "metadata": {
        "colab": {
          "base_uri": "https://localhost:8080/",
          "height": 53
        },
        "id": "FFuAdpy21ls0",
        "outputId": "df3ffa38-a681-4134-a174-e706f762430c"
      },
      "execution_count": null,
      "outputs": [
        {
          "output_type": "stream",
          "name": "stderr",
          "text": [
            "validation_example_preds.parquet: 64.2MB [00:02, 23.4MB/s]                            \n"
          ]
        },
        {
          "output_type": "execute_result",
          "data": {
            "text/plain": [
              "'validation_example_preds.parquet'"
            ],
            "application/vnd.google.colaboratory.intrinsic+json": {
              "type": "string"
            }
          },
          "metadata": {},
          "execution_count": 4
        }
      ]
    },
    {
      "cell_type": "code",
      "source": [
        "napi.download_dataset(\n",
        "\t\"v4.3/validation_benchmark_models.parquet\",\n",
        "\t\"validation_benchmark_models.parquet\"\n",
        ")"
      ],
      "metadata": {
        "colab": {
          "base_uri": "https://localhost:8080/",
          "height": 53
        },
        "id": "jftzHFPQ6-sX",
        "outputId": "8ead4eac-0e9b-4080-fcba-a078cc745205"
      },
      "execution_count": null,
      "outputs": [
        {
          "output_type": "stream",
          "name": "stderr",
          "text": [
            "validation_benchmark_models.parquet: 828MB [00:33, 24.6MB/s]                           \n"
          ]
        },
        {
          "output_type": "execute_result",
          "data": {
            "text/plain": [
              "'validation_benchmark_models.parquet'"
            ],
            "application/vnd.google.colaboratory.intrinsic+json": {
              "type": "string"
            }
          },
          "metadata": {},
          "execution_count": 27
        }
      ]
    },
    {
      "cell_type": "code",
      "source": [
        "v4_data = pd.read_parquet('validation.parquet',columns=['era','target_nomi_v4_20'])"
      ],
      "metadata": {
        "id": "8Q0Zd78-1tc3"
      },
      "execution_count": null,
      "outputs": []
    },
    {
      "cell_type": "code",
      "source": [
        "v4_example_pred = pd.read_parquet(\"validation_example_preds.parquet\")"
      ],
      "metadata": {
        "id": "BD-TdshJ1thB"
      },
      "execution_count": null,
      "outputs": []
    },
    {
      "cell_type": "code",
      "source": [
        "v4_data['prediction'] = v4_example_pred['prediction']"
      ],
      "metadata": {
        "id": "iWyVm3nQ2N0q"
      },
      "execution_count": null,
      "outputs": []
    },
    {
      "cell_type": "code",
      "source": [
        "import datetime, scipy\n",
        "\n",
        "## Convert datetime into Numerai eras\n",
        "def convert_datetime_to_era(sample_date):\n",
        "    baseline = datetime.datetime(year=2003, month=1, day=3)\n",
        "    differences = datetime.datetime.strptime(sample_date, \"%Y-%m-%d\") - baseline\n",
        "    new_era = str(differences.days // 7 + 1)\n",
        "    while len(new_era) < 4:\n",
        "        new_era = \"0\" + new_era\n",
        "    return new_era\n",
        "\n",
        "\n",
        "def convert_era_to_datetime(era):\n",
        "    baseline = datetime.datetime(year=2003, month=1, day=3)\n",
        "    new_datetime = baseline + datetime.timedelta(days=7 * (int(era) - 1))\n",
        "    return new_datetime\n",
        "\n",
        "\n",
        "def strategy_metrics(\n",
        "    strategy_raw, interval=1, compound=False, accuracy=4, no_days=20, payout_ratio=0.06\n",
        "):\n",
        "    strategy = np.array(strategy_raw)\n",
        "    if len(strategy.shape) < 2:\n",
        "        strategy = strategy.reshape(-1, 1)\n",
        "    epsilon = 1e-6\n",
        "    results = dict()\n",
        "    results[\"mean\"] = np.mean(strategy, axis=0) * interval\n",
        "    results[\"volatility\"] = np.clip(\n",
        "        np.std(strategy, axis=0) * np.sqrt(interval), epsilon, np.inf\n",
        "    )\n",
        "    results[\"skew\"] = scipy.stats.skew(strategy, axis=0)\n",
        "    results[\"kurtosis\"] = scipy.stats.kurtosis(strategy, axis=0)\n",
        "    if not compound:\n",
        "        portfolio = np.cumsum(strategy, axis=0)\n",
        "        temp = pd.DataFrame(portfolio).cummax(axis=0).values\n",
        "        dd = portfolio - temp\n",
        "    else:\n",
        "        portfolio = np.cumprod(1 + strategy * payout_ratio * 5, axis=0)\n",
        "        temp = pd.DataFrame(portfolio).cummax(axis=0).values\n",
        "        dd = (portfolio - temp) / temp\n",
        "    if compound:\n",
        "        portfolio_ts = pd.DataFrame(portfolio)\n",
        "        log_returns = np.log(portfolio_ts) - np.log(portfolio_ts.shift(1))\n",
        "        results[\"mean\"] = np.mean(log_returns) * 52\n",
        "        results[\"volatility\"] = np.std(log_returns) * np.sqrt(52)\n",
        "    results[\"max_drawdown\"] = np.clip(-1 * dd.min(axis=0), epsilon, np.inf)\n",
        "    results[\"sharpe\"] = results[\"mean\"] / results[\"volatility\"]\n",
        "    results[\"calmar\"] = results[\"mean\"] / results[\"max_drawdown\"]\n",
        "    df = pd.DataFrame(results)\n",
        "    if isinstance(strategy_raw, pd.DataFrame):\n",
        "        df.index = strategy_raw.columns\n",
        "        return df.round(accuracy)\n",
        "    else:\n",
        "        ## For Backward Comptability with Optuna Optimisation\n",
        "        return df.round(accuracy).loc[0].to_dict()\n",
        "\n",
        "def numerai_corr(preds, target):\n",
        "    ranked_preds = (preds.rank(method=\"average\").values - 0.5) / preds.shape[0]\n",
        "    gauss_ranked_preds = scipy.stats.norm.ppf(ranked_preds)\n",
        "    # make targets centered around 0. This assumes the targets have a mean of 0.5\n",
        "    centered_target = target - 0.5\n",
        "    # raise both preds and target to the power of 1.5 to accentuate the tails\n",
        "    preds_p15 = np.sign(gauss_ranked_preds) * np.abs(gauss_ranked_preds) ** 1.5\n",
        "    target_p15 = np.sign(centered_target) * np.abs(centered_target) ** 1.5\n",
        "    # finally return the Pearson correlation\n",
        "    return np.corrcoef(\n",
        "        np.array(preds_p15).astype(float), np.array(target_p15).astype(float)\n",
        "    )[0,1]\n",
        "\n",
        "\n",
        "def numerai_corr_old(preds, target):\n",
        "    ranked_preds = (preds.rank(method=\"average\").values - 0.5) / preds.shape[0]\n",
        "    gauss_ranked_preds = scipy.stats.norm.ppf(ranked_preds)\n",
        "    # make targets centered around 0. This assumes the targets have a mean of 0.5\n",
        "    centered_target = target - 0.5\n",
        "    # finally return the Pearson correlation\n",
        "    return np.corrcoef(\n",
        "        np.array(gauss_ranked_preds).astype(float), np.array(centered_target).astype(float)\n",
        "    )[0,1]"
      ],
      "metadata": {
        "id": "pVpx0CUg2tqb"
      },
      "execution_count": null,
      "outputs": []
    },
    {
      "cell_type": "code",
      "source": [
        "## Score Example Model from Era 646 to Era 1030\n",
        "\n",
        "\n",
        "performances = dict()\n",
        "\n",
        "for i,df in v4_data.groupby(\"era\"):\n",
        "    performances[i] = numerai_corr_old(df['prediction'],df['target_nomi_v4_20'])\n",
        "\n",
        "performances_v4_example = pd.Series(performances)"
      ],
      "metadata": {
        "id": "MpelqgvV286S"
      },
      "execution_count": null,
      "outputs": []
    },
    {
      "cell_type": "code",
      "source": [
        "strategy_metrics(performances_v4_example.loc['0625':'1030'])"
      ],
      "metadata": {
        "colab": {
          "base_uri": "https://localhost:8080/"
        },
        "id": "IsZJg8Ui5ZaI",
        "outputId": "afc507e0-bb99-4240-dd9c-71a0c9aea370"
      },
      "execution_count": null,
      "outputs": [
        {
          "output_type": "execute_result",
          "data": {
            "text/plain": [
              "{'mean': 0.0332,\n",
              " 'volatility': 0.0357,\n",
              " 'skew': -0.0673,\n",
              " 'kurtosis': 0.1754,\n",
              " 'max_drawdown': 0.2693,\n",
              " 'sharpe': 0.9292,\n",
              " 'calmar': 0.1231}"
            ]
          },
          "metadata": {},
          "execution_count": 32
        }
      ]
    }
  ]
}